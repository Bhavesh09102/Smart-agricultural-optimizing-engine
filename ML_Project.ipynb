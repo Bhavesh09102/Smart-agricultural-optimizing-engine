{
  "nbformat": 4,
  "nbformat_minor": 0,
  "metadata": {
    "colab": {
      "provenance": [],
      "authorship_tag": "ABX9TyOIW/drw+plgybp1zCT30MR",
      "include_colab_link": true
    },
    "kernelspec": {
      "name": "python3",
      "display_name": "Python 3"
    },
    "language_info": {
      "name": "python"
    }
  },
  "cells": [
    {
      "cell_type": "markdown",
      "metadata": {
        "id": "view-in-github",
        "colab_type": "text"
      },
      "source": [
        "<a href=\"https://colab.research.google.com/github/Bhavesh09102/Smart-agricultural-optimizing-engine/blob/main/ML_Project.ipynb\" target=\"_parent\"><img src=\"https://colab.research.google.com/assets/colab-badge.svg\" alt=\"Open In Colab\"/></a>"
      ]
    },
    {
      "cell_type": "code",
      "execution_count": 1,
      "metadata": {
        "id": "s20qTMpKeJub"
      },
      "outputs": [],
      "source": [
        "import matplotlib as plt\n",
        "import numpy as np\n",
        "from sklearn import datasets,linear_model\n",
        "from sklearn.metrics import mean_squared_error\n",
        "import matplotlib.pyplot as plt\n",
        "import pandas as pd\n",
        "\n",
        "from sklearn.model_selection import train_test_split\n",
        "from sklearn.linear_model import LogisticRegression\n",
        "from sklearn.linear_model import LogisticRegression\n",
        "from sklearn.metrics import classification_report, confusion_matrix, accuracy_score"
      ]
    },
    {
      "cell_type": "code",
      "source": [
        "from google.colab import files\n",
        "uploaded = files.upload()"
      ],
      "metadata": {
        "colab": {
          "base_uri": "https://localhost:8080/",
          "height": 74
        },
        "id": "GH7eBvFteQJ6",
        "outputId": "ddca9c2a-9cbb-40b5-ec6f-516e78558376"
      },
      "execution_count": 2,
      "outputs": [
        {
          "output_type": "display_data",
          "data": {
            "text/plain": [
              "<IPython.core.display.HTML object>"
            ],
            "text/html": [
              "\n",
              "     <input type=\"file\" id=\"files-c73993a0-67ed-4f76-b0fe-a472dfbb0613\" name=\"files[]\" multiple disabled\n",
              "        style=\"border:none\" />\n",
              "     <output id=\"result-c73993a0-67ed-4f76-b0fe-a472dfbb0613\">\n",
              "      Upload widget is only available when the cell has been executed in the\n",
              "      current browser session. Please rerun this cell to enable.\n",
              "      </output>\n",
              "      <script>// Copyright 2017 Google LLC\n",
              "//\n",
              "// Licensed under the Apache License, Version 2.0 (the \"License\");\n",
              "// you may not use this file except in compliance with the License.\n",
              "// You may obtain a copy of the License at\n",
              "//\n",
              "//      http://www.apache.org/licenses/LICENSE-2.0\n",
              "//\n",
              "// Unless required by applicable law or agreed to in writing, software\n",
              "// distributed under the License is distributed on an \"AS IS\" BASIS,\n",
              "// WITHOUT WARRANTIES OR CONDITIONS OF ANY KIND, either express or implied.\n",
              "// See the License for the specific language governing permissions and\n",
              "// limitations under the License.\n",
              "\n",
              "/**\n",
              " * @fileoverview Helpers for google.colab Python module.\n",
              " */\n",
              "(function(scope) {\n",
              "function span(text, styleAttributes = {}) {\n",
              "  const element = document.createElement('span');\n",
              "  element.textContent = text;\n",
              "  for (const key of Object.keys(styleAttributes)) {\n",
              "    element.style[key] = styleAttributes[key];\n",
              "  }\n",
              "  return element;\n",
              "}\n",
              "\n",
              "// Max number of bytes which will be uploaded at a time.\n",
              "const MAX_PAYLOAD_SIZE = 100 * 1024;\n",
              "\n",
              "function _uploadFiles(inputId, outputId) {\n",
              "  const steps = uploadFilesStep(inputId, outputId);\n",
              "  const outputElement = document.getElementById(outputId);\n",
              "  // Cache steps on the outputElement to make it available for the next call\n",
              "  // to uploadFilesContinue from Python.\n",
              "  outputElement.steps = steps;\n",
              "\n",
              "  return _uploadFilesContinue(outputId);\n",
              "}\n",
              "\n",
              "// This is roughly an async generator (not supported in the browser yet),\n",
              "// where there are multiple asynchronous steps and the Python side is going\n",
              "// to poll for completion of each step.\n",
              "// This uses a Promise to block the python side on completion of each step,\n",
              "// then passes the result of the previous step as the input to the next step.\n",
              "function _uploadFilesContinue(outputId) {\n",
              "  const outputElement = document.getElementById(outputId);\n",
              "  const steps = outputElement.steps;\n",
              "\n",
              "  const next = steps.next(outputElement.lastPromiseValue);\n",
              "  return Promise.resolve(next.value.promise).then((value) => {\n",
              "    // Cache the last promise value to make it available to the next\n",
              "    // step of the generator.\n",
              "    outputElement.lastPromiseValue = value;\n",
              "    return next.value.response;\n",
              "  });\n",
              "}\n",
              "\n",
              "/**\n",
              " * Generator function which is called between each async step of the upload\n",
              " * process.\n",
              " * @param {string} inputId Element ID of the input file picker element.\n",
              " * @param {string} outputId Element ID of the output display.\n",
              " * @return {!Iterable<!Object>} Iterable of next steps.\n",
              " */\n",
              "function* uploadFilesStep(inputId, outputId) {\n",
              "  const inputElement = document.getElementById(inputId);\n",
              "  inputElement.disabled = false;\n",
              "\n",
              "  const outputElement = document.getElementById(outputId);\n",
              "  outputElement.innerHTML = '';\n",
              "\n",
              "  const pickedPromise = new Promise((resolve) => {\n",
              "    inputElement.addEventListener('change', (e) => {\n",
              "      resolve(e.target.files);\n",
              "    });\n",
              "  });\n",
              "\n",
              "  const cancel = document.createElement('button');\n",
              "  inputElement.parentElement.appendChild(cancel);\n",
              "  cancel.textContent = 'Cancel upload';\n",
              "  const cancelPromise = new Promise((resolve) => {\n",
              "    cancel.onclick = () => {\n",
              "      resolve(null);\n",
              "    };\n",
              "  });\n",
              "\n",
              "  // Wait for the user to pick the files.\n",
              "  const files = yield {\n",
              "    promise: Promise.race([pickedPromise, cancelPromise]),\n",
              "    response: {\n",
              "      action: 'starting',\n",
              "    }\n",
              "  };\n",
              "\n",
              "  cancel.remove();\n",
              "\n",
              "  // Disable the input element since further picks are not allowed.\n",
              "  inputElement.disabled = true;\n",
              "\n",
              "  if (!files) {\n",
              "    return {\n",
              "      response: {\n",
              "        action: 'complete',\n",
              "      }\n",
              "    };\n",
              "  }\n",
              "\n",
              "  for (const file of files) {\n",
              "    const li = document.createElement('li');\n",
              "    li.append(span(file.name, {fontWeight: 'bold'}));\n",
              "    li.append(span(\n",
              "        `(${file.type || 'n/a'}) - ${file.size} bytes, ` +\n",
              "        `last modified: ${\n",
              "            file.lastModifiedDate ? file.lastModifiedDate.toLocaleDateString() :\n",
              "                                    'n/a'} - `));\n",
              "    const percent = span('0% done');\n",
              "    li.appendChild(percent);\n",
              "\n",
              "    outputElement.appendChild(li);\n",
              "\n",
              "    const fileDataPromise = new Promise((resolve) => {\n",
              "      const reader = new FileReader();\n",
              "      reader.onload = (e) => {\n",
              "        resolve(e.target.result);\n",
              "      };\n",
              "      reader.readAsArrayBuffer(file);\n",
              "    });\n",
              "    // Wait for the data to be ready.\n",
              "    let fileData = yield {\n",
              "      promise: fileDataPromise,\n",
              "      response: {\n",
              "        action: 'continue',\n",
              "      }\n",
              "    };\n",
              "\n",
              "    // Use a chunked sending to avoid message size limits. See b/62115660.\n",
              "    let position = 0;\n",
              "    do {\n",
              "      const length = Math.min(fileData.byteLength - position, MAX_PAYLOAD_SIZE);\n",
              "      const chunk = new Uint8Array(fileData, position, length);\n",
              "      position += length;\n",
              "\n",
              "      const base64 = btoa(String.fromCharCode.apply(null, chunk));\n",
              "      yield {\n",
              "        response: {\n",
              "          action: 'append',\n",
              "          file: file.name,\n",
              "          data: base64,\n",
              "        },\n",
              "      };\n",
              "\n",
              "      let percentDone = fileData.byteLength === 0 ?\n",
              "          100 :\n",
              "          Math.round((position / fileData.byteLength) * 100);\n",
              "      percent.textContent = `${percentDone}% done`;\n",
              "\n",
              "    } while (position < fileData.byteLength);\n",
              "  }\n",
              "\n",
              "  // All done.\n",
              "  yield {\n",
              "    response: {\n",
              "      action: 'complete',\n",
              "    }\n",
              "  };\n",
              "}\n",
              "\n",
              "scope.google = scope.google || {};\n",
              "scope.google.colab = scope.google.colab || {};\n",
              "scope.google.colab._files = {\n",
              "  _uploadFiles,\n",
              "  _uploadFilesContinue,\n",
              "};\n",
              "})(self);\n",
              "</script> "
            ]
          },
          "metadata": {}
        },
        {
          "output_type": "stream",
          "name": "stdout",
          "text": [
            "Saving Crop_recommendation.csv to Crop_recommendation.csv\n"
          ]
        }
      ]
    },
    {
      "cell_type": "code",
      "source": [
        "crop = list(uploaded.keys())[0]\n",
        "crop_data= pd.read_csv(crop)\n"
      ],
      "metadata": {
        "id": "bWFxKWqQei6F"
      },
      "execution_count": 3,
      "outputs": []
    },
    {
      "cell_type": "markdown",
      "source": [
        "dropping rows with missing values"
      ],
      "metadata": {
        "id": "I4WjCzybfgfC"
      }
    },
    {
      "cell_type": "code",
      "source": [
        "crop_data = crop_data.dropna()\n"
      ],
      "metadata": {
        "id": "oSG_iUvzfwxs"
      },
      "execution_count": 4,
      "outputs": []
    },
    {
      "cell_type": "markdown",
      "source": [
        "Removing non numeric column here it is \"Label\""
      ],
      "metadata": {
        "id": "jIJSlLljf8f_"
      }
    },
    {
      "cell_type": "code",
      "source": [
        "for column in crop_data.columns[:-1]:  # Exclude the 'label' column\n",
        "    crop_data[column] = pd.to_numeric(crop_data[column], errors='coerce')"
      ],
      "metadata": {
        "id": "Aq9r23eEf8C3"
      },
      "execution_count": 5,
      "outputs": []
    },
    {
      "cell_type": "markdown",
      "source": [
        "Encode the 'Label' column"
      ],
      "metadata": {
        "id": "yJ5MNAtrfwak"
      }
    },
    {
      "cell_type": "code",
      "source": [
        "from sklearn.model_selection import train_test_split\n",
        "from sklearn.preprocessing import StandardScaler, LabelEncoder\n",
        "label_encoder = LabelEncoder()\n",
        "crop_data['label'] = label_encoder.fit_transform(crop_data['label'])"
      ],
      "metadata": {
        "id": "aGuZyd6mgOmt"
      },
      "execution_count": 11,
      "outputs": []
    },
    {
      "cell_type": "markdown",
      "source": [
        "Select important features and target\n"
      ],
      "metadata": {
        "id": "ILw9yFuhgenf"
      }
    },
    {
      "cell_type": "code",
      "source": [
        "important_features = ['N', 'P', 'K', 'temperature', 'humidity', 'rainfall']\n",
        "features = crop_data[important_features]\n",
        "target = crop_data['label']"
      ],
      "metadata": {
        "id": "jl62uoUQgd9_"
      },
      "execution_count": 12,
      "outputs": []
    },
    {
      "cell_type": "markdown",
      "source": [
        "Scale the features"
      ],
      "metadata": {
        "id": "nc87Lbk4gdry"
      }
    },
    {
      "cell_type": "code",
      "source": [
        "scaler = StandardScaler()\n",
        "features_scaled = scaler.fit_transform(features)"
      ],
      "metadata": {
        "id": "i1WR3jXKgrHp"
      },
      "execution_count": 13,
      "outputs": []
    },
    {
      "cell_type": "markdown",
      "source": [
        "\n",
        " Split the dataset into training and testing sets"
      ],
      "metadata": {
        "id": "VpU-q7gHgupS"
      }
    },
    {
      "cell_type": "code",
      "source": [
        "X_train, X_test, y_train, y_test = train_test_split(features_scaled, target, test_size=0.2, random_state=42)"
      ],
      "metadata": {
        "id": "lRdqWQQNguV6"
      },
      "execution_count": 14,
      "outputs": []
    },
    {
      "cell_type": "markdown",
      "source": [
        "# LINEAR REGRESSION"
      ],
      "metadata": {
        "id": "1XLdQh4rg4EY"
      }
    },
    {
      "cell_type": "markdown",
      "source": [
        "Training the model"
      ],
      "metadata": {
        "id": "WZTdnVoKhMTo"
      }
    },
    {
      "cell_type": "code",
      "source": [
        "from sklearn.linear_model import LinearRegression\n",
        "from sklearn.metrics import mean_squared_error, r2_score\n",
        "linear_model = LinearRegression()\n",
        "linear_model.fit(X_train, y_train)"
      ],
      "metadata": {
        "colab": {
          "base_uri": "https://localhost:8080/",
          "height": 74
        },
        "id": "I8Ef7v5_g4-d",
        "outputId": "00e5f648-c9b4-4f26-affd-6660bbfe75dc"
      },
      "execution_count": 16,
      "outputs": [
        {
          "output_type": "execute_result",
          "data": {
            "text/plain": [
              "LinearRegression()"
            ],
            "text/html": [
              "<style>#sk-container-id-1 {color: black;background-color: white;}#sk-container-id-1 pre{padding: 0;}#sk-container-id-1 div.sk-toggleable {background-color: white;}#sk-container-id-1 label.sk-toggleable__label {cursor: pointer;display: block;width: 100%;margin-bottom: 0;padding: 0.3em;box-sizing: border-box;text-align: center;}#sk-container-id-1 label.sk-toggleable__label-arrow:before {content: \"▸\";float: left;margin-right: 0.25em;color: #696969;}#sk-container-id-1 label.sk-toggleable__label-arrow:hover:before {color: black;}#sk-container-id-1 div.sk-estimator:hover label.sk-toggleable__label-arrow:before {color: black;}#sk-container-id-1 div.sk-toggleable__content {max-height: 0;max-width: 0;overflow: hidden;text-align: left;background-color: #f0f8ff;}#sk-container-id-1 div.sk-toggleable__content pre {margin: 0.2em;color: black;border-radius: 0.25em;background-color: #f0f8ff;}#sk-container-id-1 input.sk-toggleable__control:checked~div.sk-toggleable__content {max-height: 200px;max-width: 100%;overflow: auto;}#sk-container-id-1 input.sk-toggleable__control:checked~label.sk-toggleable__label-arrow:before {content: \"▾\";}#sk-container-id-1 div.sk-estimator input.sk-toggleable__control:checked~label.sk-toggleable__label {background-color: #d4ebff;}#sk-container-id-1 div.sk-label input.sk-toggleable__control:checked~label.sk-toggleable__label {background-color: #d4ebff;}#sk-container-id-1 input.sk-hidden--visually {border: 0;clip: rect(1px 1px 1px 1px);clip: rect(1px, 1px, 1px, 1px);height: 1px;margin: -1px;overflow: hidden;padding: 0;position: absolute;width: 1px;}#sk-container-id-1 div.sk-estimator {font-family: monospace;background-color: #f0f8ff;border: 1px dotted black;border-radius: 0.25em;box-sizing: border-box;margin-bottom: 0.5em;}#sk-container-id-1 div.sk-estimator:hover {background-color: #d4ebff;}#sk-container-id-1 div.sk-parallel-item::after {content: \"\";width: 100%;border-bottom: 1px solid gray;flex-grow: 1;}#sk-container-id-1 div.sk-label:hover label.sk-toggleable__label {background-color: #d4ebff;}#sk-container-id-1 div.sk-serial::before {content: \"\";position: absolute;border-left: 1px solid gray;box-sizing: border-box;top: 0;bottom: 0;left: 50%;z-index: 0;}#sk-container-id-1 div.sk-serial {display: flex;flex-direction: column;align-items: center;background-color: white;padding-right: 0.2em;padding-left: 0.2em;position: relative;}#sk-container-id-1 div.sk-item {position: relative;z-index: 1;}#sk-container-id-1 div.sk-parallel {display: flex;align-items: stretch;justify-content: center;background-color: white;position: relative;}#sk-container-id-1 div.sk-item::before, #sk-container-id-1 div.sk-parallel-item::before {content: \"\";position: absolute;border-left: 1px solid gray;box-sizing: border-box;top: 0;bottom: 0;left: 50%;z-index: -1;}#sk-container-id-1 div.sk-parallel-item {display: flex;flex-direction: column;z-index: 1;position: relative;background-color: white;}#sk-container-id-1 div.sk-parallel-item:first-child::after {align-self: flex-end;width: 50%;}#sk-container-id-1 div.sk-parallel-item:last-child::after {align-self: flex-start;width: 50%;}#sk-container-id-1 div.sk-parallel-item:only-child::after {width: 0;}#sk-container-id-1 div.sk-dashed-wrapped {border: 1px dashed gray;margin: 0 0.4em 0.5em 0.4em;box-sizing: border-box;padding-bottom: 0.4em;background-color: white;}#sk-container-id-1 div.sk-label label {font-family: monospace;font-weight: bold;display: inline-block;line-height: 1.2em;}#sk-container-id-1 div.sk-label-container {text-align: center;}#sk-container-id-1 div.sk-container {/* jupyter's `normalize.less` sets `[hidden] { display: none; }` but bootstrap.min.css set `[hidden] { display: none !important; }` so we also need the `!important` here to be able to override the default hidden behavior on the sphinx rendered scikit-learn.org. See: https://github.com/scikit-learn/scikit-learn/issues/21755 */display: inline-block !important;position: relative;}#sk-container-id-1 div.sk-text-repr-fallback {display: none;}</style><div id=\"sk-container-id-1\" class=\"sk-top-container\"><div class=\"sk-text-repr-fallback\"><pre>LinearRegression()</pre><b>In a Jupyter environment, please rerun this cell to show the HTML representation or trust the notebook. <br />On GitHub, the HTML representation is unable to render, please try loading this page with nbviewer.org.</b></div><div class=\"sk-container\" hidden><div class=\"sk-item\"><div class=\"sk-estimator sk-toggleable\"><input class=\"sk-toggleable__control sk-hidden--visually\" id=\"sk-estimator-id-1\" type=\"checkbox\" checked><label for=\"sk-estimator-id-1\" class=\"sk-toggleable__label sk-toggleable__label-arrow\">LinearRegression</label><div class=\"sk-toggleable__content\"><pre>LinearRegression()</pre></div></div></div></div></div>"
            ]
          },
          "metadata": {},
          "execution_count": 16
        }
      ]
    },
    {
      "cell_type": "markdown",
      "source": [
        "Predict using the Linear Regression model"
      ],
      "metadata": {
        "id": "1-l3skhbhTKW"
      }
    },
    {
      "cell_type": "code",
      "source": [
        "y_pred_train_linear = linear_model.predict(X_train)\n",
        "y_pred_test_linear = linear_model.predict(X_test)"
      ],
      "metadata": {
        "id": "oC3RAA9fhWJi"
      },
      "execution_count": 17,
      "outputs": []
    },
    {
      "cell_type": "markdown",
      "source": [
        "Calculate accuracy (R^2 score)"
      ],
      "metadata": {
        "id": "35d9A48ghYpN"
      }
    },
    {
      "cell_type": "code",
      "source": [
        "train_accuracy_linear = r2_score(y_train, y_pred_train_linear)\n",
        "test_accuracy_linear = r2_score(y_test, y_pred_test_linear)\n",
        "\n",
        "print('Linear Regression Train R^2 Score:', train_accuracy_linear)\n",
        "print('Linear Regression Test R^2 Score:', test_accuracy_linear)"
      ],
      "metadata": {
        "colab": {
          "base_uri": "https://localhost:8080/"
        },
        "id": "SESrth8RhcL9",
        "outputId": "39fc99ce-af86-4eec-88bc-ba2184bc4f87"
      },
      "execution_count": 18,
      "outputs": [
        {
          "output_type": "stream",
          "name": "stdout",
          "text": [
            "Linear Regression Train R^2 Score: 0.30160861777729575\n",
            "Linear Regression Test R^2 Score: 0.2534669045864427\n"
          ]
        }
      ]
    },
    {
      "cell_type": "markdown",
      "source": [
        "# LOGISTIC REGRESSION"
      ],
      "metadata": {
        "id": "c-wIsl8AhgPH"
      }
    },
    {
      "cell_type": "code",
      "source": [
        "from sklearn.linear_model import LogisticRegression\n",
        "from sklearn.metrics import accuracy_score"
      ],
      "metadata": {
        "id": "jUJhFcSKhfOi"
      },
      "execution_count": 19,
      "outputs": []
    },
    {
      "cell_type": "markdown",
      "source": [
        "Train the Logistic Regression model"
      ],
      "metadata": {
        "id": "hQxTOejiiOjI"
      }
    },
    {
      "cell_type": "code",
      "source": [
        "logistic_model = LogisticRegression(max_iter=200)\n",
        "logistic_model.fit(X_train, y_train)"
      ],
      "metadata": {
        "colab": {
          "base_uri": "https://localhost:8080/",
          "height": 74
        },
        "id": "oGEgbXMxiRYS",
        "outputId": "b7d74f65-8ae2-46ae-8374-78662b1c6565"
      },
      "execution_count": 20,
      "outputs": [
        {
          "output_type": "execute_result",
          "data": {
            "text/plain": [
              "LogisticRegression(max_iter=200)"
            ],
            "text/html": [
              "<style>#sk-container-id-2 {color: black;background-color: white;}#sk-container-id-2 pre{padding: 0;}#sk-container-id-2 div.sk-toggleable {background-color: white;}#sk-container-id-2 label.sk-toggleable__label {cursor: pointer;display: block;width: 100%;margin-bottom: 0;padding: 0.3em;box-sizing: border-box;text-align: center;}#sk-container-id-2 label.sk-toggleable__label-arrow:before {content: \"▸\";float: left;margin-right: 0.25em;color: #696969;}#sk-container-id-2 label.sk-toggleable__label-arrow:hover:before {color: black;}#sk-container-id-2 div.sk-estimator:hover label.sk-toggleable__label-arrow:before {color: black;}#sk-container-id-2 div.sk-toggleable__content {max-height: 0;max-width: 0;overflow: hidden;text-align: left;background-color: #f0f8ff;}#sk-container-id-2 div.sk-toggleable__content pre {margin: 0.2em;color: black;border-radius: 0.25em;background-color: #f0f8ff;}#sk-container-id-2 input.sk-toggleable__control:checked~div.sk-toggleable__content {max-height: 200px;max-width: 100%;overflow: auto;}#sk-container-id-2 input.sk-toggleable__control:checked~label.sk-toggleable__label-arrow:before {content: \"▾\";}#sk-container-id-2 div.sk-estimator input.sk-toggleable__control:checked~label.sk-toggleable__label {background-color: #d4ebff;}#sk-container-id-2 div.sk-label input.sk-toggleable__control:checked~label.sk-toggleable__label {background-color: #d4ebff;}#sk-container-id-2 input.sk-hidden--visually {border: 0;clip: rect(1px 1px 1px 1px);clip: rect(1px, 1px, 1px, 1px);height: 1px;margin: -1px;overflow: hidden;padding: 0;position: absolute;width: 1px;}#sk-container-id-2 div.sk-estimator {font-family: monospace;background-color: #f0f8ff;border: 1px dotted black;border-radius: 0.25em;box-sizing: border-box;margin-bottom: 0.5em;}#sk-container-id-2 div.sk-estimator:hover {background-color: #d4ebff;}#sk-container-id-2 div.sk-parallel-item::after {content: \"\";width: 100%;border-bottom: 1px solid gray;flex-grow: 1;}#sk-container-id-2 div.sk-label:hover label.sk-toggleable__label {background-color: #d4ebff;}#sk-container-id-2 div.sk-serial::before {content: \"\";position: absolute;border-left: 1px solid gray;box-sizing: border-box;top: 0;bottom: 0;left: 50%;z-index: 0;}#sk-container-id-2 div.sk-serial {display: flex;flex-direction: column;align-items: center;background-color: white;padding-right: 0.2em;padding-left: 0.2em;position: relative;}#sk-container-id-2 div.sk-item {position: relative;z-index: 1;}#sk-container-id-2 div.sk-parallel {display: flex;align-items: stretch;justify-content: center;background-color: white;position: relative;}#sk-container-id-2 div.sk-item::before, #sk-container-id-2 div.sk-parallel-item::before {content: \"\";position: absolute;border-left: 1px solid gray;box-sizing: border-box;top: 0;bottom: 0;left: 50%;z-index: -1;}#sk-container-id-2 div.sk-parallel-item {display: flex;flex-direction: column;z-index: 1;position: relative;background-color: white;}#sk-container-id-2 div.sk-parallel-item:first-child::after {align-self: flex-end;width: 50%;}#sk-container-id-2 div.sk-parallel-item:last-child::after {align-self: flex-start;width: 50%;}#sk-container-id-2 div.sk-parallel-item:only-child::after {width: 0;}#sk-container-id-2 div.sk-dashed-wrapped {border: 1px dashed gray;margin: 0 0.4em 0.5em 0.4em;box-sizing: border-box;padding-bottom: 0.4em;background-color: white;}#sk-container-id-2 div.sk-label label {font-family: monospace;font-weight: bold;display: inline-block;line-height: 1.2em;}#sk-container-id-2 div.sk-label-container {text-align: center;}#sk-container-id-2 div.sk-container {/* jupyter's `normalize.less` sets `[hidden] { display: none; }` but bootstrap.min.css set `[hidden] { display: none !important; }` so we also need the `!important` here to be able to override the default hidden behavior on the sphinx rendered scikit-learn.org. See: https://github.com/scikit-learn/scikit-learn/issues/21755 */display: inline-block !important;position: relative;}#sk-container-id-2 div.sk-text-repr-fallback {display: none;}</style><div id=\"sk-container-id-2\" class=\"sk-top-container\"><div class=\"sk-text-repr-fallback\"><pre>LogisticRegression(max_iter=200)</pre><b>In a Jupyter environment, please rerun this cell to show the HTML representation or trust the notebook. <br />On GitHub, the HTML representation is unable to render, please try loading this page with nbviewer.org.</b></div><div class=\"sk-container\" hidden><div class=\"sk-item\"><div class=\"sk-estimator sk-toggleable\"><input class=\"sk-toggleable__control sk-hidden--visually\" id=\"sk-estimator-id-2\" type=\"checkbox\" checked><label for=\"sk-estimator-id-2\" class=\"sk-toggleable__label sk-toggleable__label-arrow\">LogisticRegression</label><div class=\"sk-toggleable__content\"><pre>LogisticRegression(max_iter=200)</pre></div></div></div></div></div>"
            ]
          },
          "metadata": {},
          "execution_count": 20
        }
      ]
    },
    {
      "cell_type": "markdown",
      "source": [
        "Predict using the Logistic Regression model"
      ],
      "metadata": {
        "id": "HoWq2SFXiRwo"
      }
    },
    {
      "cell_type": "code",
      "source": [
        "y_pred_train_logistic = logistic_model.predict(X_train)\n",
        "y_pred_test_logistic = logistic_model.predict(X_test)"
      ],
      "metadata": {
        "id": "Dm0yGUpdiSRE"
      },
      "execution_count": 21,
      "outputs": []
    },
    {
      "cell_type": "markdown",
      "source": [
        "Calculate Accuracy"
      ],
      "metadata": {
        "id": "cjgGyo2ciS38"
      }
    },
    {
      "cell_type": "code",
      "source": [
        "train_accuracy_logistic = accuracy_score(y_train, y_pred_train_logistic)\n",
        "test_accuracy_logistic = accuracy_score(y_test, y_pred_test_logistic)\n",
        "\n",
        "print('Logistic Regression Train Accuracy:', train_accuracy_logistic)\n",
        "print('Logistic Regression Test Accuracy:', test_accuracy_logistic)"
      ],
      "metadata": {
        "colab": {
          "base_uri": "https://localhost:8080/"
        },
        "id": "cjnRnzSLiTUs",
        "outputId": "f0fa49f3-fad3-4d25-8cbe-125f349688a6"
      },
      "execution_count": 22,
      "outputs": [
        {
          "output_type": "stream",
          "name": "stdout",
          "text": [
            "Logistic Regression Train Accuracy: 0.9789772727272728\n",
            "Logistic Regression Test Accuracy: 0.9636363636363636\n"
          ]
        }
      ]
    },
    {
      "cell_type": "markdown",
      "source": [
        "# NEURAL NETWORK"
      ],
      "metadata": {
        "id": "yKPS2sI_3I4O"
      }
    },
    {
      "cell_type": "code",
      "source": [
        "import tensorflow as tf\n",
        "from tensorflow.keras.models import Sequential\n",
        "from tensorflow.keras.layers import Dense\n",
        "from sklearn.metrics import mean_squared_error, r2_score"
      ],
      "metadata": {
        "id": "Mvi6_n173Hiq"
      },
      "execution_count": 23,
      "outputs": []
    },
    {
      "cell_type": "markdown",
      "source": [
        "Build the model"
      ],
      "metadata": {
        "id": "IWUxlf3f3UTV"
      }
    },
    {
      "cell_type": "code",
      "source": [
        "nn = Sequential([\n",
        "    Dense(64, input_dim=X_train.shape[1], activation='relu'),\n",
        "    Dense(32, activation='relu'),\n",
        "    Dense(1, activation='linear')\n",
        "])"
      ],
      "metadata": {
        "id": "o4Ede4ee3H25"
      },
      "execution_count": 24,
      "outputs": []
    },
    {
      "cell_type": "markdown",
      "source": [
        "Compile the  model"
      ],
      "metadata": {
        "id": "0hSWDDNQ4U-Q"
      }
    },
    {
      "cell_type": "code",
      "source": [
        "nn.compile(optimizer='adam', loss='mean_squared_error')"
      ],
      "metadata": {
        "id": "3knaG6XD3H5b"
      },
      "execution_count": 25,
      "outputs": []
    },
    {
      "cell_type": "markdown",
      "source": [
        "Train the model"
      ],
      "metadata": {
        "id": "S-8mxu6F4dNO"
      }
    },
    {
      "cell_type": "code",
      "source": [
        "history = nn.fit(X_train, y_train, epochs=200, validation_data=(X_test, y_test))"
      ],
      "metadata": {
        "colab": {
          "base_uri": "https://localhost:8080/"
        },
        "collapsed": true,
        "id": "Ds9INdYv3H8Q",
        "outputId": "1c48ec59-a388-4cc8-8bd8-8afc3591c41e"
      },
      "execution_count": 26,
      "outputs": [
        {
          "output_type": "stream",
          "name": "stdout",
          "text": [
            "Epoch 1/200\n",
            "55/55 [==============================] - 1s 7ms/step - loss: 135.0818 - val_loss: 109.5049\n",
            "Epoch 2/200\n",
            "55/55 [==============================] - 0s 3ms/step - loss: 75.4458 - val_loss: 43.8847\n",
            "Epoch 3/200\n",
            "55/55 [==============================] - 0s 3ms/step - loss: 29.1392 - val_loss: 27.6217\n",
            "Epoch 4/200\n",
            "55/55 [==============================] - 0s 3ms/step - loss: 22.4342 - val_loss: 24.4049\n",
            "Epoch 5/200\n",
            "55/55 [==============================] - 0s 3ms/step - loss: 20.0281 - val_loss: 21.9958\n",
            "Epoch 6/200\n",
            "55/55 [==============================] - 0s 4ms/step - loss: 18.1399 - val_loss: 20.0388\n",
            "Epoch 7/200\n",
            "55/55 [==============================] - 0s 3ms/step - loss: 16.6633 - val_loss: 18.4227\n",
            "Epoch 8/200\n",
            "55/55 [==============================] - 0s 3ms/step - loss: 15.4564 - val_loss: 17.1583\n",
            "Epoch 9/200\n",
            "55/55 [==============================] - 0s 3ms/step - loss: 14.5769 - val_loss: 16.1382\n",
            "Epoch 10/200\n",
            "55/55 [==============================] - 0s 3ms/step - loss: 13.8807 - val_loss: 15.2651\n",
            "Epoch 11/200\n",
            "55/55 [==============================] - 0s 3ms/step - loss: 13.2024 - val_loss: 14.4824\n",
            "Epoch 12/200\n",
            "55/55 [==============================] - 0s 3ms/step - loss: 12.6874 - val_loss: 13.8696\n",
            "Epoch 13/200\n",
            "55/55 [==============================] - 0s 3ms/step - loss: 12.1743 - val_loss: 13.3641\n",
            "Epoch 14/200\n",
            "55/55 [==============================] - 0s 3ms/step - loss: 11.6778 - val_loss: 12.7808\n",
            "Epoch 15/200\n",
            "55/55 [==============================] - 0s 3ms/step - loss: 11.1709 - val_loss: 12.1970\n",
            "Epoch 16/200\n",
            "55/55 [==============================] - 0s 3ms/step - loss: 10.6784 - val_loss: 11.6281\n",
            "Epoch 17/200\n",
            "55/55 [==============================] - 0s 3ms/step - loss: 10.1768 - val_loss: 11.0212\n",
            "Epoch 18/200\n",
            "55/55 [==============================] - 0s 3ms/step - loss: 9.7960 - val_loss: 10.5901\n",
            "Epoch 19/200\n",
            "55/55 [==============================] - 0s 5ms/step - loss: 9.2667 - val_loss: 10.0835\n",
            "Epoch 20/200\n",
            "55/55 [==============================] - 0s 3ms/step - loss: 8.8889 - val_loss: 9.6510\n",
            "Epoch 21/200\n",
            "55/55 [==============================] - 0s 3ms/step - loss: 8.4421 - val_loss: 9.2318\n",
            "Epoch 22/200\n",
            "55/55 [==============================] - 0s 3ms/step - loss: 8.0207 - val_loss: 8.8052\n",
            "Epoch 23/200\n",
            "55/55 [==============================] - 0s 4ms/step - loss: 7.6891 - val_loss: 8.3855\n",
            "Epoch 24/200\n",
            "55/55 [==============================] - 0s 3ms/step - loss: 7.3334 - val_loss: 7.9790\n",
            "Epoch 25/200\n",
            "55/55 [==============================] - 0s 3ms/step - loss: 7.0192 - val_loss: 7.6796\n",
            "Epoch 26/200\n",
            "55/55 [==============================] - 0s 3ms/step - loss: 6.6990 - val_loss: 7.4568\n",
            "Epoch 27/200\n",
            "55/55 [==============================] - 0s 3ms/step - loss: 6.4671 - val_loss: 7.1294\n",
            "Epoch 28/200\n",
            "55/55 [==============================] - 0s 3ms/step - loss: 6.2014 - val_loss: 7.1765\n",
            "Epoch 29/200\n",
            "55/55 [==============================] - 0s 2ms/step - loss: 6.0515 - val_loss: 6.7498\n",
            "Epoch 30/200\n",
            "55/55 [==============================] - 0s 3ms/step - loss: 5.8300 - val_loss: 6.6237\n",
            "Epoch 31/200\n",
            "55/55 [==============================] - 0s 3ms/step - loss: 5.7416 - val_loss: 6.4537\n",
            "Epoch 32/200\n",
            "55/55 [==============================] - 0s 2ms/step - loss: 5.5342 - val_loss: 6.2850\n",
            "Epoch 33/200\n",
            "55/55 [==============================] - 0s 3ms/step - loss: 5.4065 - val_loss: 6.1536\n",
            "Epoch 34/200\n",
            "55/55 [==============================] - 0s 3ms/step - loss: 5.2921 - val_loss: 6.0155\n",
            "Epoch 35/200\n",
            "55/55 [==============================] - 0s 3ms/step - loss: 5.1283 - val_loss: 5.9692\n",
            "Epoch 36/200\n",
            "55/55 [==============================] - 0s 4ms/step - loss: 5.0490 - val_loss: 6.0959\n",
            "Epoch 37/200\n",
            "55/55 [==============================] - 0s 3ms/step - loss: 5.0381 - val_loss: 5.8474\n",
            "Epoch 38/200\n",
            "55/55 [==============================] - 0s 3ms/step - loss: 4.7917 - val_loss: 5.6237\n",
            "Epoch 39/200\n",
            "55/55 [==============================] - 0s 3ms/step - loss: 4.7120 - val_loss: 5.6399\n",
            "Epoch 40/200\n",
            "55/55 [==============================] - 0s 3ms/step - loss: 4.6307 - val_loss: 5.4709\n",
            "Epoch 41/200\n",
            "55/55 [==============================] - 0s 3ms/step - loss: 4.5582 - val_loss: 5.4335\n",
            "Epoch 42/200\n",
            "55/55 [==============================] - 0s 4ms/step - loss: 4.4483 - val_loss: 5.3600\n",
            "Epoch 43/200\n",
            "55/55 [==============================] - 0s 3ms/step - loss: 4.3758 - val_loss: 5.3584\n",
            "Epoch 44/200\n",
            "55/55 [==============================] - 0s 3ms/step - loss: 4.2751 - val_loss: 5.3142\n",
            "Epoch 45/200\n",
            "55/55 [==============================] - 0s 3ms/step - loss: 4.2539 - val_loss: 5.2494\n",
            "Epoch 46/200\n",
            "55/55 [==============================] - 0s 4ms/step - loss: 4.2059 - val_loss: 5.1545\n",
            "Epoch 47/200\n",
            "55/55 [==============================] - 0s 7ms/step - loss: 4.1029 - val_loss: 5.0522\n",
            "Epoch 48/200\n",
            "55/55 [==============================] - 0s 4ms/step - loss: 4.0709 - val_loss: 5.1131\n",
            "Epoch 49/200\n",
            "55/55 [==============================] - 0s 4ms/step - loss: 3.9782 - val_loss: 4.9162\n",
            "Epoch 50/200\n",
            "55/55 [==============================] - 0s 4ms/step - loss: 3.9335 - val_loss: 4.9221\n",
            "Epoch 51/200\n",
            "55/55 [==============================] - 0s 6ms/step - loss: 3.8891 - val_loss: 5.0775\n",
            "Epoch 52/200\n",
            "55/55 [==============================] - 0s 5ms/step - loss: 3.8436 - val_loss: 4.8144\n",
            "Epoch 53/200\n",
            "55/55 [==============================] - 0s 4ms/step - loss: 3.7905 - val_loss: 4.7342\n",
            "Epoch 54/200\n",
            "55/55 [==============================] - 0s 5ms/step - loss: 3.7290 - val_loss: 4.7407\n",
            "Epoch 55/200\n",
            "55/55 [==============================] - 0s 5ms/step - loss: 3.7152 - val_loss: 4.7781\n",
            "Epoch 56/200\n",
            "55/55 [==============================] - 0s 4ms/step - loss: 3.7042 - val_loss: 4.6523\n",
            "Epoch 57/200\n",
            "55/55 [==============================] - 0s 5ms/step - loss: 3.6280 - val_loss: 4.6449\n",
            "Epoch 58/200\n",
            "55/55 [==============================] - 0s 5ms/step - loss: 3.5907 - val_loss: 4.5872\n",
            "Epoch 59/200\n",
            "55/55 [==============================] - 0s 3ms/step - loss: 3.5016 - val_loss: 4.6024\n",
            "Epoch 60/200\n",
            "55/55 [==============================] - 0s 3ms/step - loss: 3.5067 - val_loss: 4.6081\n",
            "Epoch 61/200\n",
            "55/55 [==============================] - 0s 3ms/step - loss: 3.4954 - val_loss: 4.4995\n",
            "Epoch 62/200\n",
            "55/55 [==============================] - 0s 3ms/step - loss: 3.4094 - val_loss: 4.4356\n",
            "Epoch 63/200\n",
            "55/55 [==============================] - 0s 3ms/step - loss: 3.4177 - val_loss: 4.4713\n",
            "Epoch 64/200\n",
            "55/55 [==============================] - 0s 3ms/step - loss: 3.3906 - val_loss: 4.3124\n",
            "Epoch 65/200\n",
            "55/55 [==============================] - 0s 3ms/step - loss: 3.3461 - val_loss: 4.4004\n",
            "Epoch 66/200\n",
            "55/55 [==============================] - 0s 3ms/step - loss: 3.3794 - val_loss: 4.3231\n",
            "Epoch 67/200\n",
            "55/55 [==============================] - 0s 3ms/step - loss: 3.3386 - val_loss: 4.3574\n",
            "Epoch 68/200\n",
            "55/55 [==============================] - 0s 3ms/step - loss: 3.2594 - val_loss: 4.2635\n",
            "Epoch 69/200\n",
            "55/55 [==============================] - 0s 3ms/step - loss: 3.1953 - val_loss: 4.2444\n",
            "Epoch 70/200\n",
            "55/55 [==============================] - 0s 3ms/step - loss: 3.2081 - val_loss: 4.1981\n",
            "Epoch 71/200\n",
            "55/55 [==============================] - 0s 3ms/step - loss: 3.1517 - val_loss: 4.1747\n",
            "Epoch 72/200\n",
            "55/55 [==============================] - 0s 3ms/step - loss: 3.1355 - val_loss: 4.1950\n",
            "Epoch 73/200\n",
            "55/55 [==============================] - 0s 3ms/step - loss: 3.0902 - val_loss: 4.2625\n",
            "Epoch 74/200\n",
            "55/55 [==============================] - 0s 3ms/step - loss: 3.1357 - val_loss: 4.1422\n",
            "Epoch 75/200\n",
            "55/55 [==============================] - 0s 4ms/step - loss: 3.0800 - val_loss: 4.0524\n",
            "Epoch 76/200\n",
            "55/55 [==============================] - 0s 3ms/step - loss: 3.0254 - val_loss: 4.0415\n",
            "Epoch 77/200\n",
            "55/55 [==============================] - 0s 3ms/step - loss: 2.9744 - val_loss: 4.0436\n",
            "Epoch 78/200\n",
            "55/55 [==============================] - 0s 3ms/step - loss: 2.9637 - val_loss: 4.0025\n",
            "Epoch 79/200\n",
            "55/55 [==============================] - 0s 3ms/step - loss: 2.9715 - val_loss: 4.0385\n",
            "Epoch 80/200\n",
            "55/55 [==============================] - 0s 3ms/step - loss: 2.9366 - val_loss: 3.9648\n",
            "Epoch 81/200\n",
            "55/55 [==============================] - 0s 3ms/step - loss: 2.8867 - val_loss: 4.0376\n",
            "Epoch 82/200\n",
            "55/55 [==============================] - 0s 3ms/step - loss: 2.8753 - val_loss: 4.0363\n",
            "Epoch 83/200\n",
            "55/55 [==============================] - 0s 3ms/step - loss: 2.8515 - val_loss: 3.9195\n",
            "Epoch 84/200\n",
            "55/55 [==============================] - 0s 3ms/step - loss: 2.8865 - val_loss: 3.9726\n",
            "Epoch 85/200\n",
            "55/55 [==============================] - 0s 3ms/step - loss: 2.7987 - val_loss: 3.9984\n",
            "Epoch 86/200\n",
            "55/55 [==============================] - 0s 3ms/step - loss: 2.8049 - val_loss: 3.9115\n",
            "Epoch 87/200\n",
            "55/55 [==============================] - 0s 4ms/step - loss: 2.8469 - val_loss: 3.8397\n",
            "Epoch 88/200\n",
            "55/55 [==============================] - 0s 3ms/step - loss: 2.7647 - val_loss: 3.8832\n",
            "Epoch 89/200\n",
            "55/55 [==============================] - 0s 3ms/step - loss: 2.7437 - val_loss: 3.8670\n",
            "Epoch 90/200\n",
            "55/55 [==============================] - 0s 3ms/step - loss: 2.7061 - val_loss: 3.9841\n",
            "Epoch 91/200\n",
            "55/55 [==============================] - 0s 3ms/step - loss: 2.7376 - val_loss: 3.9373\n",
            "Epoch 92/200\n",
            "55/55 [==============================] - 0s 3ms/step - loss: 2.7601 - val_loss: 3.8186\n",
            "Epoch 93/200\n",
            "55/55 [==============================] - 0s 3ms/step - loss: 2.6932 - val_loss: 3.7739\n",
            "Epoch 94/200\n",
            "55/55 [==============================] - 0s 3ms/step - loss: 2.6526 - val_loss: 3.6619\n",
            "Epoch 95/200\n",
            "55/55 [==============================] - 0s 3ms/step - loss: 2.6037 - val_loss: 3.7665\n",
            "Epoch 96/200\n",
            "55/55 [==============================] - 0s 3ms/step - loss: 2.5816 - val_loss: 3.6628\n",
            "Epoch 97/200\n",
            "55/55 [==============================] - 0s 3ms/step - loss: 2.5800 - val_loss: 3.6192\n",
            "Epoch 98/200\n",
            "55/55 [==============================] - 0s 3ms/step - loss: 2.5627 - val_loss: 3.6486\n",
            "Epoch 99/200\n",
            "55/55 [==============================] - 0s 4ms/step - loss: 2.5430 - val_loss: 3.6565\n",
            "Epoch 100/200\n",
            "55/55 [==============================] - 0s 3ms/step - loss: 2.5316 - val_loss: 3.6450\n",
            "Epoch 101/200\n",
            "55/55 [==============================] - 0s 3ms/step - loss: 2.5216 - val_loss: 3.6677\n",
            "Epoch 102/200\n",
            "55/55 [==============================] - 0s 3ms/step - loss: 2.4894 - val_loss: 3.5858\n",
            "Epoch 103/200\n",
            "55/55 [==============================] - 0s 3ms/step - loss: 2.4742 - val_loss: 3.6459\n",
            "Epoch 104/200\n",
            "55/55 [==============================] - 0s 3ms/step - loss: 2.5106 - val_loss: 3.5371\n",
            "Epoch 105/200\n",
            "55/55 [==============================] - 0s 3ms/step - loss: 2.4715 - val_loss: 3.5869\n",
            "Epoch 106/200\n",
            "55/55 [==============================] - 0s 3ms/step - loss: 2.4599 - val_loss: 3.4675\n",
            "Epoch 107/200\n",
            "55/55 [==============================] - 0s 3ms/step - loss: 2.4236 - val_loss: 3.5751\n",
            "Epoch 108/200\n",
            "55/55 [==============================] - 0s 3ms/step - loss: 2.4386 - val_loss: 3.5083\n",
            "Epoch 109/200\n",
            "55/55 [==============================] - 0s 3ms/step - loss: 2.4122 - val_loss: 3.5540\n",
            "Epoch 110/200\n",
            "55/55 [==============================] - 0s 3ms/step - loss: 2.3764 - val_loss: 3.5000\n",
            "Epoch 111/200\n",
            "55/55 [==============================] - 0s 3ms/step - loss: 2.3832 - val_loss: 3.4516\n",
            "Epoch 112/200\n",
            "55/55 [==============================] - 0s 3ms/step - loss: 2.3651 - val_loss: 3.6441\n",
            "Epoch 113/200\n",
            "55/55 [==============================] - 0s 3ms/step - loss: 2.3503 - val_loss: 3.4459\n",
            "Epoch 114/200\n",
            "55/55 [==============================] - 0s 3ms/step - loss: 2.3464 - val_loss: 3.4281\n",
            "Epoch 115/200\n",
            "55/55 [==============================] - 0s 3ms/step - loss: 2.3046 - val_loss: 3.4448\n",
            "Epoch 116/200\n",
            "55/55 [==============================] - 0s 4ms/step - loss: 2.3385 - val_loss: 3.4177\n",
            "Epoch 117/200\n",
            "55/55 [==============================] - 0s 3ms/step - loss: 2.3015 - val_loss: 3.3383\n",
            "Epoch 118/200\n",
            "55/55 [==============================] - 0s 4ms/step - loss: 2.2917 - val_loss: 3.4425\n",
            "Epoch 119/200\n",
            "55/55 [==============================] - 0s 4ms/step - loss: 2.4459 - val_loss: 3.3401\n",
            "Epoch 120/200\n",
            "55/55 [==============================] - 0s 5ms/step - loss: 2.2964 - val_loss: 3.3146\n",
            "Epoch 121/200\n",
            "55/55 [==============================] - 0s 6ms/step - loss: 2.3016 - val_loss: 3.3608\n",
            "Epoch 122/200\n",
            "55/55 [==============================] - 0s 4ms/step - loss: 2.2441 - val_loss: 3.3557\n",
            "Epoch 123/200\n",
            "55/55 [==============================] - 0s 5ms/step - loss: 2.2339 - val_loss: 3.3845\n",
            "Epoch 124/200\n",
            "55/55 [==============================] - 0s 6ms/step - loss: 2.2398 - val_loss: 3.3014\n",
            "Epoch 125/200\n",
            "55/55 [==============================] - 0s 5ms/step - loss: 2.2110 - val_loss: 3.3975\n",
            "Epoch 126/200\n",
            "55/55 [==============================] - 0s 5ms/step - loss: 2.2466 - val_loss: 3.3874\n",
            "Epoch 127/200\n",
            "55/55 [==============================] - 0s 5ms/step - loss: 2.1700 - val_loss: 3.3433\n",
            "Epoch 128/200\n",
            "55/55 [==============================] - 0s 6ms/step - loss: 2.1830 - val_loss: 3.2782\n",
            "Epoch 129/200\n",
            "55/55 [==============================] - 0s 4ms/step - loss: 2.1656 - val_loss: 3.2943\n",
            "Epoch 130/200\n",
            "55/55 [==============================] - 0s 3ms/step - loss: 2.1362 - val_loss: 3.3845\n",
            "Epoch 131/200\n",
            "55/55 [==============================] - 0s 3ms/step - loss: 2.1898 - val_loss: 3.3927\n",
            "Epoch 132/200\n",
            "55/55 [==============================] - 0s 3ms/step - loss: 2.1050 - val_loss: 3.2565\n",
            "Epoch 133/200\n",
            "55/55 [==============================] - 0s 3ms/step - loss: 2.1387 - val_loss: 3.2761\n",
            "Epoch 134/200\n",
            "55/55 [==============================] - 0s 3ms/step - loss: 2.2371 - val_loss: 3.3719\n",
            "Epoch 135/200\n",
            "55/55 [==============================] - 0s 3ms/step - loss: 2.1075 - val_loss: 3.2644\n",
            "Epoch 136/200\n",
            "55/55 [==============================] - 0s 3ms/step - loss: 2.0827 - val_loss: 3.2917\n",
            "Epoch 137/200\n",
            "55/55 [==============================] - 0s 3ms/step - loss: 2.0707 - val_loss: 3.2336\n",
            "Epoch 138/200\n",
            "55/55 [==============================] - 0s 4ms/step - loss: 2.0697 - val_loss: 3.2200\n",
            "Epoch 139/200\n",
            "55/55 [==============================] - 0s 3ms/step - loss: 2.0497 - val_loss: 3.1855\n",
            "Epoch 140/200\n",
            "55/55 [==============================] - 0s 3ms/step - loss: 2.0142 - val_loss: 3.1457\n",
            "Epoch 141/200\n",
            "55/55 [==============================] - 0s 2ms/step - loss: 2.0246 - val_loss: 3.2112\n",
            "Epoch 142/200\n",
            "55/55 [==============================] - 0s 2ms/step - loss: 2.0340 - val_loss: 3.1240\n",
            "Epoch 143/200\n",
            "55/55 [==============================] - 0s 3ms/step - loss: 2.0135 - val_loss: 3.1235\n",
            "Epoch 144/200\n",
            "55/55 [==============================] - 0s 3ms/step - loss: 2.0763 - val_loss: 3.2867\n",
            "Epoch 145/200\n",
            "55/55 [==============================] - 0s 3ms/step - loss: 2.0999 - val_loss: 3.1008\n",
            "Epoch 146/200\n",
            "55/55 [==============================] - 0s 3ms/step - loss: 1.9422 - val_loss: 3.1044\n",
            "Epoch 147/200\n",
            "55/55 [==============================] - 0s 3ms/step - loss: 1.9459 - val_loss: 3.2421\n",
            "Epoch 148/200\n",
            "55/55 [==============================] - 0s 3ms/step - loss: 1.9665 - val_loss: 3.0738\n",
            "Epoch 149/200\n",
            "55/55 [==============================] - 0s 3ms/step - loss: 1.9467 - val_loss: 3.0867\n",
            "Epoch 150/200\n",
            "55/55 [==============================] - 0s 4ms/step - loss: 1.9735 - val_loss: 3.1273\n",
            "Epoch 151/200\n",
            "55/55 [==============================] - 0s 3ms/step - loss: 1.9244 - val_loss: 3.1033\n",
            "Epoch 152/200\n",
            "55/55 [==============================] - 0s 3ms/step - loss: 1.9541 - val_loss: 3.0258\n",
            "Epoch 153/200\n",
            "55/55 [==============================] - 0s 3ms/step - loss: 1.9169 - val_loss: 2.9964\n",
            "Epoch 154/200\n",
            "55/55 [==============================] - 0s 3ms/step - loss: 1.8737 - val_loss: 3.0201\n",
            "Epoch 155/200\n",
            "55/55 [==============================] - 0s 3ms/step - loss: 1.8628 - val_loss: 3.0477\n",
            "Epoch 156/200\n",
            "55/55 [==============================] - 0s 3ms/step - loss: 1.9147 - val_loss: 3.0581\n",
            "Epoch 157/200\n",
            "55/55 [==============================] - 0s 3ms/step - loss: 1.9142 - val_loss: 3.0362\n",
            "Epoch 158/200\n",
            "55/55 [==============================] - 0s 2ms/step - loss: 1.9082 - val_loss: 3.0711\n",
            "Epoch 159/200\n",
            "55/55 [==============================] - 0s 3ms/step - loss: 1.8629 - val_loss: 3.0397\n",
            "Epoch 160/200\n",
            "55/55 [==============================] - 0s 3ms/step - loss: 1.9022 - val_loss: 2.9981\n",
            "Epoch 161/200\n",
            "55/55 [==============================] - 0s 3ms/step - loss: 1.8522 - val_loss: 2.9429\n",
            "Epoch 162/200\n",
            "55/55 [==============================] - 0s 3ms/step - loss: 1.8497 - val_loss: 3.0239\n",
            "Epoch 163/200\n",
            "55/55 [==============================] - 0s 3ms/step - loss: 1.8507 - val_loss: 3.0283\n",
            "Epoch 164/200\n",
            "55/55 [==============================] - 0s 3ms/step - loss: 1.8380 - val_loss: 2.9345\n",
            "Epoch 165/200\n",
            "55/55 [==============================] - 0s 3ms/step - loss: 1.8658 - val_loss: 3.0995\n",
            "Epoch 166/200\n",
            "55/55 [==============================] - 0s 3ms/step - loss: 1.8256 - val_loss: 2.9868\n",
            "Epoch 167/200\n",
            "55/55 [==============================] - 0s 3ms/step - loss: 1.8332 - val_loss: 2.9229\n",
            "Epoch 168/200\n",
            "55/55 [==============================] - 0s 4ms/step - loss: 1.8191 - val_loss: 2.9528\n",
            "Epoch 169/200\n",
            "55/55 [==============================] - 0s 3ms/step - loss: 1.8118 - val_loss: 2.9060\n",
            "Epoch 170/200\n",
            "55/55 [==============================] - 0s 3ms/step - loss: 1.7796 - val_loss: 2.9595\n",
            "Epoch 171/200\n",
            "55/55 [==============================] - 0s 3ms/step - loss: 1.7922 - val_loss: 2.9083\n",
            "Epoch 172/200\n",
            "55/55 [==============================] - 0s 4ms/step - loss: 1.7922 - val_loss: 2.8793\n",
            "Epoch 173/200\n",
            "55/55 [==============================] - 0s 3ms/step - loss: 1.7862 - val_loss: 2.8968\n",
            "Epoch 174/200\n",
            "55/55 [==============================] - 0s 4ms/step - loss: 1.7637 - val_loss: 2.9350\n",
            "Epoch 175/200\n",
            "55/55 [==============================] - 0s 3ms/step - loss: 1.7879 - val_loss: 2.9119\n",
            "Epoch 176/200\n",
            "55/55 [==============================] - 0s 3ms/step - loss: 1.7523 - val_loss: 2.9484\n",
            "Epoch 177/200\n",
            "55/55 [==============================] - 0s 3ms/step - loss: 1.7219 - val_loss: 2.8493\n",
            "Epoch 178/200\n",
            "55/55 [==============================] - 0s 3ms/step - loss: 1.7372 - val_loss: 2.8598\n",
            "Epoch 179/200\n",
            "55/55 [==============================] - 0s 3ms/step - loss: 1.7628 - val_loss: 2.8409\n",
            "Epoch 180/200\n",
            "55/55 [==============================] - 0s 4ms/step - loss: 1.7096 - val_loss: 2.8324\n",
            "Epoch 181/200\n",
            "55/55 [==============================] - 0s 4ms/step - loss: 1.6624 - val_loss: 2.8918\n",
            "Epoch 182/200\n",
            "55/55 [==============================] - 0s 3ms/step - loss: 1.7412 - val_loss: 2.8942\n",
            "Epoch 183/200\n",
            "55/55 [==============================] - 0s 3ms/step - loss: 1.7049 - val_loss: 2.8147\n",
            "Epoch 184/200\n",
            "55/55 [==============================] - 0s 3ms/step - loss: 1.6708 - val_loss: 2.7852\n",
            "Epoch 185/200\n",
            "55/55 [==============================] - 0s 4ms/step - loss: 1.7002 - val_loss: 2.8535\n",
            "Epoch 186/200\n",
            "55/55 [==============================] - 0s 4ms/step - loss: 1.7880 - val_loss: 2.9502\n",
            "Epoch 187/200\n",
            "55/55 [==============================] - 0s 4ms/step - loss: 1.6951 - val_loss: 2.8851\n",
            "Epoch 188/200\n",
            "55/55 [==============================] - 0s 5ms/step - loss: 1.6817 - val_loss: 2.7471\n",
            "Epoch 189/200\n",
            "55/55 [==============================] - 0s 5ms/step - loss: 1.6866 - val_loss: 2.7551\n",
            "Epoch 190/200\n",
            "55/55 [==============================] - 0s 4ms/step - loss: 1.6653 - val_loss: 2.7664\n",
            "Epoch 191/200\n",
            "55/55 [==============================] - 0s 4ms/step - loss: 1.6416 - val_loss: 2.7593\n",
            "Epoch 192/200\n",
            "55/55 [==============================] - 0s 5ms/step - loss: 1.6374 - val_loss: 2.7127\n",
            "Epoch 193/200\n",
            "55/55 [==============================] - 0s 5ms/step - loss: 1.6770 - val_loss: 2.7511\n",
            "Epoch 194/200\n",
            "55/55 [==============================] - 0s 5ms/step - loss: 1.6854 - val_loss: 2.7540\n",
            "Epoch 195/200\n",
            "55/55 [==============================] - 0s 5ms/step - loss: 1.6610 - val_loss: 2.7995\n",
            "Epoch 196/200\n",
            "55/55 [==============================] - 0s 5ms/step - loss: 1.6379 - val_loss: 2.8182\n",
            "Epoch 197/200\n",
            "55/55 [==============================] - 0s 5ms/step - loss: 1.6181 - val_loss: 2.8088\n",
            "Epoch 198/200\n",
            "55/55 [==============================] - 0s 5ms/step - loss: 1.6259 - val_loss: 2.7431\n",
            "Epoch 199/200\n",
            "55/55 [==============================] - 0s 4ms/step - loss: 1.6168 - val_loss: 2.7517\n",
            "Epoch 200/200\n",
            "55/55 [==============================] - 0s 5ms/step - loss: 1.6144 - val_loss: 2.7932\n"
          ]
        }
      ]
    },
    {
      "cell_type": "markdown",
      "source": [
        " Predict"
      ],
      "metadata": {
        "id": "SD8KNwfw4kbn"
      }
    },
    {
      "cell_type": "code",
      "source": [
        "y_pred_train_nn = nn.predict(X_train)\n",
        "y_pred_test_nn = nn.predict(X_test)"
      ],
      "metadata": {
        "colab": {
          "base_uri": "https://localhost:8080/"
        },
        "id": "YnbBfQMn3H-1",
        "outputId": "dd949c64-e480-4074-a4f1-2d4dadad6738"
      },
      "execution_count": 27,
      "outputs": [
        {
          "output_type": "stream",
          "name": "stdout",
          "text": [
            "55/55 [==============================] - 0s 2ms/step\n",
            "14/14 [==============================] - 0s 3ms/step\n"
          ]
        }
      ]
    },
    {
      "cell_type": "markdown",
      "source": [
        "Evaluation of the neural network model"
      ],
      "metadata": {
        "id": "eTsYiMKP4rQq"
      }
    },
    {
      "cell_type": "code",
      "source": [
        "print('Neural Network:')\n",
        "print(f'Training RMSE: {mean_squared_error(y_train, y_pred_train_nn, squared=False)}')\n",
        "print(f'Testing RMSE: {mean_squared_error(y_test, y_pred_test_nn, squared=False)}')\n",
        "print(f'Training R2 Score: {r2_score(y_train, y_pred_train_nn)}')\n",
        "print(f'Testing R2 Score: {r2_score(y_test, y_pred_test_nn)}')"
      ],
      "metadata": {
        "colab": {
          "base_uri": "https://localhost:8080/"
        },
        "id": "rW8C-JrP3ICB",
        "outputId": "aa002aac-abcb-40a6-a738-21738bcf55b7"
      },
      "execution_count": 28,
      "outputs": [
        {
          "output_type": "stream",
          "name": "stdout",
          "text": [
            "Neural Network:\n",
            "Training RMSE: 1.2633348472315928\n",
            "Testing RMSE: 1.6712800589543824\n",
            "Training R2 Score: 0.9598203272157663\n",
            "Testing R2 Score: 0.934004765970148\n"
          ]
        }
      ]
    },
    {
      "cell_type": "markdown",
      "source": [
        "# Graph"
      ],
      "metadata": {
        "id": "pgjzEgCl9ix-"
      }
    },
    {
      "cell_type": "code",
      "source": [
        "import matplotlib.pyplot as plt\n",
        "\n",
        "# Plotting the results for the training set\n",
        "plt.figure(figsize=(14, 6))\n",
        "\n",
        "plt.subplot(1, 2, 1)\n",
        "plt.scatter(y_train, y_pred_train_linear, color='blue')\n",
        "plt.plot([y_train.min(), y_train.max()], [y_train.min(), y_train.max()], 'k--', lw=4)\n",
        "plt.title('Linear Regression (Training Set)')\n",
        "plt.xlabel('Actual Values')\n",
        "plt.ylabel('Predicted Values')\n",
        "\n",
        "# Plotting the results for the test set\n",
        "plt.subplot(1, 2, 2)\n",
        "plt.scatter(y_test, y_pred_test_linear, color='green')\n",
        "plt.plot([y_test.min(), y_test.max()], [y_test.min(), y_test.max()], 'k--', lw=4)\n",
        "plt.title('Linear Regression (Test Set)')\n",
        "plt.xlabel('Actual Values')\n",
        "plt.ylabel('Predicted Values')\n",
        "\n",
        "plt.tight_layout()\n",
        "plt.show()\n"
      ],
      "metadata": {
        "colab": {
          "base_uri": "https://localhost:8080/",
          "height": 289
        },
        "id": "ky11oAmG9mTK",
        "outputId": "2e309cb2-4037-44fa-e6cf-9ea43b972994"
      },
      "execution_count": 29,
      "outputs": [
        {
          "output_type": "display_data",
          "data": {
            "text/plain": [
              "<Figure size 1400x600 with 2 Axes>"
            ],
            "image/png": "[encoded data removed]"
          },
          "metadata": {}
        }
      ]
    },
    {
      "cell_type": "code",
      "source": [
        "from sklearn.linear_model import LogisticRegression\n",
        "from sklearn.metrics import accuracy_score\n",
        "\n",
        "# Train the Logistic Regression model\n",
        "logistic_model = LogisticRegression(max_iter=200)\n",
        "logistic_model.fit(X_train, y_train)\n",
        "\n",
        "# Predict using the Logistic Regression model\n",
        "y_pred_train_logistic = logistic_model.predict(X_train)\n",
        "y_pred_test_logistic = logistic_model.predict(X_test)\n",
        "\n",
        "# Calculate accuracy\n",
        "train_accuracy_logistic = accuracy_score(y_train, y_pred_train_logistic)\n",
        "test_accuracy_logistic = accuracy_score(y_test, y_pred_test_logistic)\n",
        "\n",
        "print('Logistic Regression Train Accuracy:', train_accuracy_logistic)\n",
        "print('Logistic Regression Test Accuracy:', test_accuracy_logistic)\n"
      ],
      "metadata": {
        "id": "ezPQ4Y-2g66-"
      },
      "execution_count": null,
      "outputs": []
    },
    {
      "cell_type": "code",
      "source": [
        "import tensorflow as tf\n",
        "from tensorflow.keras.models import Sequential\n",
        "from tensorflow.keras.layers import Dense\n",
        "from sklearn.metrics import mean_squared_error, r2_score\n",
        "\n",
        "# Build the model\n",
        "nn = Sequential([\n",
        "    Dense(64, input_dim=X_train.shape[1], activation='relu'),\n",
        "    Dense(32, activation='relu'),\n",
        "    Dense(1, activation='linear')\n",
        "])\n",
        "\n",
        "# Compile the model\n",
        "nn.compile(optimizer='adam', loss='mean_squared_error')\n",
        "\n",
        "# Train the model\n",
        "history = nn.fit(X_train, y_train, epochs=200, validation_data=(X_test, y_test))\n",
        "\n",
        "# Predict\n",
        "y_pred_train_nn = nn.predict(X_train)\n",
        "y_pred_test_nn = nn.predict(X_test)\n",
        "\n",
        "# Evaluation of the neural network model\n",
        "train_rmse_nn = mean_squared_error(y_train, y_pred_train_nn, squared=False)\n",
        "test_rmse_nn = mean_squared_error(y_test, y_pred_test_nn, squared=False)\n",
        "train_r2_nn = r2_score(y_train, y_pred_train_nn)\n",
        "test_r2_nn = r2_score(y_test, y_pred_test_nn)\n",
        "\n",
        "print('Neural Network:')\n",
        "print(f'Training RMSE: {train_rmse_nn}')\n",
        "print(f'Testing RMSE: {test_rmse_nn}')\n",
        "print(f'Training R2 Score: {train_r2_nn}')\n",
        "print(f'Testing R2 Score: {test_r2_nn}')\n"
      ],
      "metadata": {
        "id": "SDGMO7zthV8y"
      },
      "execution_count": null,
      "outputs": []
    }
  ]
}